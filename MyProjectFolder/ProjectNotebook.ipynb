{
 "cells": [
  {
   "cell_type": "markdown",
   "metadata": {},
   "source": [
    "# Final Project: Class Schedule Chatbot"
   ]
  },
  {
   "cell_type": "markdown",
   "metadata": {},
   "source": [
    "### by: Haley Hammock"
   ]
  },
  {
   "cell_type": "markdown",
   "metadata": {},
   "source": [
    "For my project, I created a type of chatbot that creates your UCSD class schedule for you! My chatbot will ask you for the class name, number, number of credits, days of the week the class is on, and what time the class starts at. If you enter in an invalid number for any of the chatbot prompts, it will re-prompt you to enter in a correct value. \n",
    "\n",
    "In the end, it returns your schedule organized into its respective columns. It also tells you based on how many credits you are taking this quarter how hard your quarter is going to be. \n",
    "\n",
    "If you want to create a new schedule, you will have to clear the schedule by clearing the output of this notebook to get rid of previous classes entered. If you want to add more classes, just rerun the `make_schedule` function!"
   ]
  },
  {
   "cell_type": "code",
   "execution_count": null,
   "metadata": {
    "scrolled": false
   },
   "outputs": [],
   "source": [
    "from my_module.schedule import *\n",
    "\n",
    "make_schedule()"
   ]
  },
  {
   "cell_type": "code",
   "execution_count": null,
   "metadata": {},
   "outputs": [],
   "source": [
    "from my_module.test_functions import *\n",
    "\n",
    "level_testing()\n",
    "\n",
    "difficulty_testing()\n",
    "\n",
    "converter_testing()"
   ]
  },
  {
   "cell_type": "markdown",
   "metadata": {},
   "source": [
    "### Extra Credit"
   ]
  },
  {
   "cell_type": "markdown",
   "metadata": {},
   "source": [
    "I used a DataFrame to create the schedule which was shown in class, but for my project I had to map what the user typed to be information that would be put into the chart. This was more complex than I first had anticipated and was quite difficult because I had to do a lot of research in order to find the right approach. I thought I would need many loops in order to map the data into the proper places, but then I found that I could directing define the column names and map into the key values in a dictionary. I believe this goes past material we learned in the class because it caused me to do some research on the topic and we never saw DataFrame used with dictionary keys and values. I learned more in depth all the capabilities DataFrame has. "
   ]
  },
  {
   "cell_type": "code",
   "execution_count": null,
   "metadata": {},
   "outputs": [],
   "source": []
  }
 ],
 "metadata": {
  "kernelspec": {
   "display_name": "Python 3",
   "language": "python",
   "name": "python3"
  },
  "language_info": {
   "codemirror_mode": {
    "name": "ipython",
    "version": 3
   },
   "file_extension": ".py",
   "mimetype": "text/x-python",
   "name": "python",
   "nbconvert_exporter": "python",
   "pygments_lexer": "ipython3",
   "version": "3.7.3"
  }
 },
 "nbformat": 4,
 "nbformat_minor": 2
}
